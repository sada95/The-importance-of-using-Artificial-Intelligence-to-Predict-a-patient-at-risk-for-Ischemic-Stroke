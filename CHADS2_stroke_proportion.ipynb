{
 "cells": [
  {
   "cell_type": "code",
   "execution_count": 7,
   "metadata": {},
   "outputs": [],
   "source": [
    "import numpy as np\n",
    "import matplotlib.pyplot as plt\n",
    "import csv"
   ]
  },
  {
   "cell_type": "code",
   "execution_count": 8,
   "metadata": {},
   "outputs": [],
   "source": [
    "file_name = './dataset/train_2v.csv'\n",
    "\n",
    "heart_disease = []\n",
    "hypertension = []\n",
    "age = []\n",
    "avg_gluocose_level = []\n",
    "stroke = []"
   ]
  },
  {
   "cell_type": "code",
   "execution_count": 9,
   "metadata": {},
   "outputs": [],
   "source": [
    "with open(file_name, 'r') as csvFile:\n",
    "    reader = csv.reader(csvFile)\n",
    "    next(reader)\n",
    "    for row in reader:\n",
    "        heart_disease.append(int(row[4]))\n",
    "        hypertension.append(int(row[3]))\n",
    "        age.append(float(row[2]))\n",
    "        avg_gluocose_level.append(float(row[8]))\n",
    "        stroke.append(int(row[11]))"
   ]
  },
  {
   "cell_type": "code",
   "execution_count": 10,
   "metadata": {},
   "outputs": [
    {
     "name": "stdout",
     "output_type": "stream",
     "text": [
      "chads2_score calculation complete\n"
     ]
    }
   ],
   "source": [
    "chads2_score = []\n",
    "\n",
    "for i, item in enumerate(heart_disease):\n",
    "    #print (i,item)\n",
    "    c_score = heart_disease[i]\n",
    "    h_score = hypertension[i]\n",
    "    \n",
    "    if age[i]<75:\n",
    "        a_score = 0\n",
    "    else:\n",
    "        a_score = 1\n",
    "        \n",
    "    if avg_gluocose_level[i]<200:\n",
    "        d_score = 0\n",
    "    else:\n",
    "        d_score = 1\n",
    "        \n",
    "    if stroke[i]==0:\n",
    "        s2_score = 0\n",
    "    else:\n",
    "        s2_score = 2\n",
    "        \n",
    "        \n",
    "    total_score = c_score + h_score + a_score + d_score + s2_score\n",
    "    chads2_score.append(int(total_score))\n",
    "        \n",
    "print ('chads2_score calculation complete')"
   ]
  },
  {
   "cell_type": "code",
   "execution_count": 14,
   "metadata": {},
   "outputs": [],
   "source": [
    "chads2_score = np.array(chads2_score)\n",
    "stroke_flg = np.array(stroke)  # 1 if stroke else 0 \n",
    "\n",
    "def get_chads2_stroke_event_proportion(chads2_score: np.ndarray) -> list:\n",
    "    values = []\n",
    "    for i in range(7):\n",
    "        values.append(np.sum(np.array(chads2_score[stroke_flg==1]) == i) / \\\n",
    "            np.sum(np.array(chads2_score) == i))\n",
    "    return values"
   ]
  },
  {
   "cell_type": "code",
   "execution_count": 18,
   "metadata": {},
   "outputs": [
    {
     "name": "stderr",
     "output_type": "stream",
     "text": [
      "<ipython-input-18-731dfd5330be>:14: UserWarning: FixedFormatter should only be used together with FixedLocator\n",
      "  ax.set_xticklabels(labelList)\n"
     ]
    },
    {
     "data": {
      "image/png": "[encoded data removed]",
      "text/plain": [
       "<Figure size 504x360 with 1 Axes>"
      ]
     },
     "metadata": {
      "needs_background": "light"
     },
     "output_type": "display_data"
    }
   ],
   "source": [
    "fig, ax = plt.subplots(1, figsize=(7,5))\n",
    " \n",
    "courses = list([i for i in range(7)])\n",
    "values = get_chads2_stroke_event_proportion(chads2_score)\n",
    "\n",
    "# creating the bar plot\n",
    "plt.bar(courses, values, color ='maroon', width = 0.5)\n",
    "\n",
    "plt.xlabel(r'CHADS$_2$ score', fontsize=14)\n",
    "plt.ylabel(\"Proportion of stroke cases\", fontsize=14)\n",
    "plt.title(r'Proportion of stroke cases in each CHADS$_2$ score level in EHR records', fontsize=15)\n",
    "\n",
    "labelList =['Score 0', 'Score 1','Score 2', 'Score 3', 'Score 4','Score 5', 'Score 6']\n",
    "ax.set_xticklabels(labelList)\n",
    "ax.set_xticks([0.03, 1.03, 2.03, 3.03, 4.03, 5.03, 6.03])\n",
    "plt.savefig('./results/CHADS_score.pdf', format='pdf')\n",
    "plt.show()"
   ]
  }
 ],
 "metadata": {
  "interpreter": {
   "hash": "f07d5c506dc792c1d17042ce6d63d3539913070c7203ee1d707a2b2ce1ee992d"
  },
  "kernelspec": {
   "display_name": "Python 3.8.5 64-bit ('pytorch': conda)",
   "name": "python3"
  },
  "language_info": {
   "codemirror_mode": {
    "name": "ipython",
    "version": 3
   },
   "file_extension": ".py",
   "mimetype": "text/x-python",
   "name": "python",
   "nbconvert_exporter": "python",
   "pygments_lexer": "ipython3",
   "version": "3.8.5"
  },
  "orig_nbformat": 4
 },
 "nbformat": 4,
 "nbformat_minor": 2
}
